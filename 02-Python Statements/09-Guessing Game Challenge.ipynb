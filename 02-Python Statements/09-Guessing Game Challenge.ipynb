{
 "cells": [
  {
   "cell_type": "markdown",
   "metadata": {},
   "source": [
    "# Guessing Game Challenge\n",
    "\n",
    "Let's use `while` loops to create a guessing game.\n",
    "\n",
    "The Challenge:\n",
    "\n",
    "Write a program that picks a random integer from 1 to 100, and has players guess the number. The rules are:\n",
    "\n",
    "1. If a player's guess is less than 1 or greater than 100, say \"OUT OF BOUNDS\"\n",
    "2. On a player's first turn, if their guess is\n",
    " * within 10 of the number, return \"WARM!\"\n",
    " * further than 10 away from the number, return \"COLD!\"\n",
    "3. On all subsequent turns, if a guess is \n",
    " * closer to the number than the previous guess return \"WARMER!\"\n",
    " * farther from the number than the previous guess, return \"COLDER!\"\n",
    "4. When the player's guess equals the number, tell them they've guessed correctly *and* how many guesses it took!\n",
    "\n",
    "You can try this from scratch, or follow the steps outlined below. A separate Solution notebook has been provided. Good luck!\n"
   ]
  },
  {
   "cell_type": "markdown",
   "metadata": {},
   "source": [
    "#### First, pick a random integer from 1 to 100 using the random module and assign it to a variable\n",
    "\n",
    "Note: `random.randint(a,b)` returns a random integer in range `[a, b]`, including both end points."
   ]
  },
  {
   "cell_type": "code",
   "execution_count": 18,
   "metadata": {},
   "outputs": [],
   "source": [
    "from random import randint\n",
    "numero = randint(1,100)"
   ]
  },
  {
   "cell_type": "markdown",
   "metadata": {},
   "source": [
    "#### Next, print an introduction to the game and explain the rules"
   ]
  },
  {
   "cell_type": "code",
   "execution_count": null,
   "metadata": {},
   "outputs": [],
   "source": []
  },
  {
   "cell_type": "markdown",
   "metadata": {},
   "source": [
    "#### Create a list to store guesses\n",
    "\n",
    "Hint: zero is a good placeholder value. It's useful because it evaluates to \"False\""
   ]
  },
  {
   "cell_type": "code",
   "execution_count": 19,
   "metadata": {},
   "outputs": [],
   "source": [
    "lista = []"
   ]
  },
  {
   "cell_type": "markdown",
   "metadata": {},
   "source": [
    "#### Write a `while` loop that asks for a valid guess. Test it a few times to make sure it works."
   ]
  },
  {
   "cell_type": "code",
   "execution_count": 20,
   "metadata": {},
   "outputs": [
    {
     "name": "stdout",
     "output_type": "stream",
     "text": [
      "Ingresa un valor inicial entre 1 y 100: 8\n"
     ]
    }
   ],
   "source": [
    "while True:\n",
    "    inicial = input('Ingresa un valor inicial entre 1 y 100: ')\n",
    "    if inicial.isdigit():\n",
    "        if 0 < int(inicial) < 101:\n",
    "            lista.append(int(inicial))\n",
    "            break\n",
    "        else:\n",
    "            print('Valor incorrecto, debe ser entre 1 y 100, intenta nuevamente')\n",
    "            continue\n",
    "    else:\n",
    "        print('Valor incorrecto, debe ser numerico, intenta nuevamente')\n",
    "        continue"
   ]
  },
  {
   "cell_type": "markdown",
   "metadata": {},
   "source": [
    "#### Write a `while` loop that compares the player's guess to our number. If the player guesses correctly, break from the loop. Otherwise, tell the player if they're warmer or colder, and continue asking for guesses.\n",
    "\n",
    "Some hints:\n",
    "* it may help to sketch out all possible combinations on paper first!\n",
    "* you can use the `abs()` function to find the positive difference between two numbers\n",
    "* if you append all new guesses to the list, then the previous guess is given as `guesses[-2]`"
   ]
  },
  {
   "cell_type": "code",
   "execution_count": 21,
   "metadata": {},
   "outputs": [
    {
     "name": "stdout",
     "output_type": "stream",
     "text": [
      "Frio\n",
      "Ingresa un nuevo valor entre 1 y 100: 80\n",
      "Frio\n",
      "Ingresa un nuevo valor entre 1 y 100: 70\n",
      "Frio\n",
      "Ingresa un nuevo valor entre 1 y 100: 60\n",
      "Frio\n",
      "Ingresa un nuevo valor entre 1 y 100: 50\n",
      "Frio\n",
      "Ingresa un nuevo valor entre 1 y 100: 40\n",
      "Mas Caliente\n",
      "Ingresa un nuevo valor entre 1 y 100: 41\n",
      "Mas Frio\n",
      "Ingresa un nuevo valor entre 1 y 100: 39\n",
      "Mas Caliente\n",
      "Ingresa un nuevo valor entre 1 y 100: 38\n",
      "Apuntado\n",
      "[8, 80, 70, 60, 50, 40, 41, 39, 38]\n",
      "38\n"
     ]
    }
   ],
   "source": [
    "while True:\n",
    "    if len(lista) > 1:\n",
    "        disnueva = abs(numero - lista[-1])\n",
    "        disprevia = abs(numero - lista[-2])\n",
    "    elif len(lista) == 1:\n",
    "        disnueva = abs(numero - lista[-1])\n",
    "    else:\n",
    "        print('Sin numero')\n",
    "        break\n",
    "        \n",
    "    if 0 < disnueva <= 10:\n",
    "        if len(lista) > 1:\n",
    "            if disnueva < disprevia:\n",
    "                print('Mas Caliente')\n",
    "            elif disnueva > disprevia:\n",
    "                print('Mas Frio')\n",
    "            else:\n",
    "                print('Caliente')\n",
    "        else:\n",
    "            print('Caliente')\n",
    "    elif disnueva > 10:\n",
    "        print('Frio')\n",
    "    else:\n",
    "        print('Apuntado')\n",
    "        print(lista)\n",
    "        print(numero)\n",
    "        break\n",
    "    \n",
    "    while True:\n",
    "        inicial = input('Ingresa un nuevo valor entre 1 y 100: ')\n",
    "        if inicial.isdigit():\n",
    "            if 0 < int(inicial) < 101:\n",
    "                lista.append(int(inicial))\n",
    "                break\n",
    "            else:\n",
    "                print('Valor incorrecto, debe ser entre 1 y 100, intenta nuevamente')\n",
    "                continue\n",
    "        else:\n",
    "            print('Valor incorrecto, debe ser numerico, intenta nuevamente')\n",
    "            continue"
   ]
  },
  {
   "cell_type": "markdown",
   "metadata": {},
   "source": [
    "That's it! You've just programmed your first game!\n",
    "\n",
    "In the next section we'll learn how to turn some of these repetitive actions into *functions* that can be called whenever we need them."
   ]
  },
  {
   "cell_type": "markdown",
   "metadata": {},
   "source": [
    "### Good Job!"
   ]
  }
 ],
 "metadata": {
  "kernelspec": {
   "display_name": "Python 3",
   "language": "python",
   "name": "python3"
  },
  "language_info": {
   "codemirror_mode": {
    "name": "ipython",
    "version": 3
   },
   "file_extension": ".py",
   "mimetype": "text/x-python",
   "name": "python",
   "nbconvert_exporter": "python",
   "pygments_lexer": "ipython3",
   "version": "3.6.4"
  }
 },
 "nbformat": 4,
 "nbformat_minor": 2
}
